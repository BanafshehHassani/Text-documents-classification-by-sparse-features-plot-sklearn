{
  "nbformat": 4,
  "nbformat_minor": 0,
  "metadata": {
    "colab": {
      "provenance": [],
      "authorship_tag": "ABX9TyNyAeEwKsQJ2hm8FG5tYHbn",
      "include_colab_link": true
    },
    "kernelspec": {
      "name": "python3",
      "display_name": "Python 3"
    },
    "language_info": {
      "name": "python"
    }
  },
  "cells": [
    {
      "cell_type": "markdown",
      "metadata": {
        "id": "view-in-github",
        "colab_type": "text"
      },
      "source": [
        "<a href=\"https://colab.research.google.com/github/BanafshehHassani/Text-documents-classification-by-sparse-features-plot-sklearn/blob/main/Text_Document_Classification_Banafsheh_Hassani.ipynb\" target=\"_parent\"><img src=\"https://colab.research.google.com/assets/colab-badge.svg\" alt=\"Open In Colab\"/></a>"
      ]
    },
    {
      "cell_type": "markdown",
      "source": [
        "Text documents classification by sparse features\n",
        "\n",
        "Author: [Banafsheh Hassani](https://www.linkedin.com/in/banafsheh-hassani-7b063a129/)\n",
        "\n",
        "This project uses various classifiers to perform text document classification on the 20 newsgroups dataset. It uses TF-IDF for feature extraction, and calculates various performance metrics for each classifier, including accuracy, dimensionality, density, top 10 keywords per class for some classifiers, classification report, and confusion matrix."
      ],
      "metadata": {
        "id": "SyYXG5TCzqbb"
      }
    },
    {
      "cell_type": "code",
      "execution_count": null,
      "metadata": {
        "id": "5xt2siVezmNG"
      },
      "outputs": [],
      "source": [
        "# Necessary libraries are imported\n",
        "import logging\n",
        "import numpy as np\n",
        "import matplotlib.pyplot as plt\n",
        "from sklearn.datasets import fetch_20newsgroups\n",
        "from sklearn.feature_extraction.text import TfidfVectorizer\n",
        "from sklearn.linear_model import RidgeClassifier\n",
        "from sklearn.linear_model import Perceptron\n",
        "from sklearn.linear_model import PassiveAggressiveClassifier\n",
        "from sklearn.neighbors import KNeighborsClassifier\n",
        "from sklearn.ensemble import RandomForestClassifier\n",
        "from sklearn import metrics\n",
        "from sklearn.utils.extmath import density\n",
        "\n",
        "# Logging is set to display information on stdout\n",
        "logging.basicConfig(level=logging.INFO, format='%(asctime)s %(levelname)s %(message)s')\n",
        "\n",
        "# This project makes use of the 20 newsgroups text dataset, which contains a collection of\n",
        "# approximately 20,000 newsgroup documents, partitioned across 20 different newsgroups.\n",
        "data_train = fetch_20newsgroups(subset='train', remove=('headers', 'footers', 'quotes'), random_state=42)\n",
        "data_test = fetch_20newsgroups(subset='test', remove=('headers', 'footers', 'quotes'), random_state=42)\n",
        "\n",
        "# We create target label arrays for our training and testing sets\n",
        "y_train, y_test = data_train.target, data_test.target\n",
        "\n",
        "# The raw text data is transformed into feature vectors using the TF-IDF method\n",
        "vectorizer = TfidfVectorizer(sublinear_tf=True, max_df=0.5, stop_words='english')\n",
        "X_train = vectorizer.fit_transform(data_train.data)\n",
        "X_test = vectorizer.transform(data_test.data)\n",
        "\n",
        "# We create a list of classifiers that will be used to classify the documents\n",
        "classifiers = [\n",
        "    (RidgeClassifier(tol=1e-2, solver=\"sag\"), \"Ridge Classifier\"),\n",
        "    (Perceptron(max_iter=50), \"Perceptron\"),\n",
        "    (PassiveAggressiveClassifier(max_iter=50), \"Passive-Aggressive\"),\n",
        "    (KNeighborsClassifier(n_neighbors=10), \"kNN\"),\n",
        "    (RandomForestClassifier(), \"Random forest\")\n",
        "]\n",
        "\n",
        "# Now we train each classifier and test it\n",
        "for clf, name in classifiers:\n",
        "    print('=' * 80)\n",
        "    print(name)\n",
        "    results = []\n",
        "\n",
        "    # We train the classifier\n",
        "    clf.fit(X_train, y_train)\n",
        "\n",
        "    # We use the trained classifier to predict the categories of the test set documents\n",
        "    pred = clf.predict(X_test)\n",
        "\n",
        "    # Some statistics about the results are printed\n",
        "    score = metrics.accuracy_score(y_test, pred)\n",
        "    print(\"accuracy:   %0.3f\" % score)\n",
        "\n",
        "    if hasattr(clf, 'coef_'):\n",
        "        print(\"dimensionality: %d\" % clf.coef_.shape[1])\n",
        "        print(\"density: %f\" % density(clf.coef_))\n",
        "\n",
        "        if name in (\"Ridge Classifier\", \"Perceptron\",\"Passive-Aggressive\"):\n",
        "            print(\"top 10 keywords per class:\")\n",
        "            for i, label in enumerate(data_train.target_names):\n",
        "                top10 = np.argsort(clf.coef_[i])[-10:]\n",
        "                print(\"%s: %s\" % (label, \" \".join(data_train.target_names[j] for j in top10)))\n",
        "        print()\n",
        "\n",
        "    print(\"classification report:\")\n",
        "    print(metrics.classification_report(y_test, pred, target_names=data_test.target_names))\n",
        "    print(\"confusion matrix:\")\n",
        "    print(metrics.confusion_matrix(y_test, pred))\n",
        "\n",
        "    print()\n",
        "    clf_descr = str(clf).split('(')[0]\n",
        "    results.append((clf_descr, score))\n"
      ]
    }
  ]
}